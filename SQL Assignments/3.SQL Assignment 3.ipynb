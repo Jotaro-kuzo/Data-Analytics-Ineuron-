{
 "cells": [
  {
   "cell_type": "markdown",
   "id": "03a06f6d",
   "metadata": {},
   "source": [
    "### Q-1. Write an SQL query to print the FIRST_NAME from Worker table after removing white spaces from the right side."
   ]
  },
  {
   "cell_type": "markdown",
   "id": "3bff72fe",
   "metadata": {},
   "source": [
    "    Select RTRIM(FIRST_NAME) from Worker;"
   ]
  },
  {
   "cell_type": "markdown",
   "id": "57949869",
   "metadata": {},
   "source": [
    "### Q-2. Write an SQL query that fetches the unique values of DEPARTMENT from Worker table and prints its length."
   ]
  },
  {
   "cell_type": "markdown",
   "id": "60beb8c1",
   "metadata": {},
   "source": [
    "    Select DISTINCT(DEPARTMENT), LEN(DEPARTMENT) from Worker;"
   ]
  },
  {
   "cell_type": "markdown",
   "id": "7742ab34",
   "metadata": {},
   "source": [
    "### Q-3. Write an SQL query to fetch nth max salaries from a table."
   ]
  },
  {
   "cell_type": "markdown",
   "id": "4d5834e8",
   "metadata": {},
   "source": [
    "    Select DISTINCT(SALARY) from Worker ORDER BY SALARY DESC LIMIT 1 OFFSET n;"
   ]
  },
  {
   "cell_type": "code",
   "execution_count": null,
   "id": "e5cb1a32",
   "metadata": {},
   "outputs": [],
   "source": []
  }
 ],
 "metadata": {
  "kernelspec": {
   "display_name": "Python 3 (ipykernel)",
   "language": "python",
   "name": "python3"
  },
  "language_info": {
   "codemirror_mode": {
    "name": "ipython",
    "version": 3
   },
   "file_extension": ".py",
   "mimetype": "text/x-python",
   "name": "python",
   "nbconvert_exporter": "python",
   "pygments_lexer": "ipython3",
   "version": "3.9.12"
  }
 },
 "nbformat": 4,
 "nbformat_minor": 5
}
