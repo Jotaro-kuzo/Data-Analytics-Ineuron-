{
 "cells": [
  {
   "cell_type": "markdown",
   "id": "7790aeaf",
   "metadata": {},
   "source": [
    "###  Write an SQL query to show only odd rows from a table."
   ]
  },
  {
   "cell_type": "markdown",
   "id": "c0cf6298",
   "metadata": {},
   "source": [
    "    Select * from Workers where MOD(id,2)=1"
   ]
  },
  {
   "cell_type": "code",
   "execution_count": null,
   "id": "a2375237",
   "metadata": {},
   "outputs": [],
   "source": []
  },
  {
   "cell_type": "markdown",
   "id": "e080b182",
   "metadata": {},
   "source": [
    "### Write an SQL query to clone a new table from another table."
   ]
  },
  {
   "cell_type": "code",
   "execution_count": null,
   "id": "20539139",
   "metadata": {},
   "outputs": [],
   "source": [
    " Create table Clone(\n",
    " ID INT PRIMARY KEY AUTO INCREMENT NOT NULL,\n",
    " FIRST_NAME CHAR(50),\n",
    " LAST_NAME CHAR(50),\n",
    " DEPARTMENT VARCHAR(50),\n",
    " Joining Date VARCHAR(20),\n",
    " Salary INT\n",
    " );"
   ]
  },
  {
   "cell_type": "markdown",
   "id": "45cae577",
   "metadata": {},
   "source": [
    "    INSERT INTO Clone Select * from Workers;"
   ]
  },
  {
   "cell_type": "code",
   "execution_count": null,
   "id": "9598f8b6",
   "metadata": {},
   "outputs": [],
   "source": []
  }
 ],
 "metadata": {
  "kernelspec": {
   "display_name": "Python 3 (ipykernel)",
   "language": "python",
   "name": "python3"
  },
  "language_info": {
   "codemirror_mode": {
    "name": "ipython",
    "version": 3
   },
   "file_extension": ".py",
   "mimetype": "text/x-python",
   "name": "python",
   "nbconvert_exporter": "python",
   "pygments_lexer": "ipython3",
   "version": "3.9.12"
  }
 },
 "nbformat": 4,
 "nbformat_minor": 5
}
