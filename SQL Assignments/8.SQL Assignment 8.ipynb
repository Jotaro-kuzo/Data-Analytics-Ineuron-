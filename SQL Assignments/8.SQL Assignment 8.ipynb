{
 "cells": [
  {
   "cell_type": "markdown",
   "id": "c97930be",
   "metadata": {},
   "source": [
    "### Q-15. Write an SQL query to fetch intersecting records of two tables."
   ]
  },
  {
   "cell_type": "code",
   "execution_count": null,
   "id": "66269306",
   "metadata": {},
   "outputs": [],
   "source": [
    "    Select column_name from fiest_table intersect select column_name from Second_table"
   ]
  },
  {
   "cell_type": "markdown",
   "id": "2ee3e503",
   "metadata": {},
   "source": [
    "### Q-16. Write an SQL query to show records from one table that another table does not have."
   ]
  },
  {
   "cell_type": "code",
   "execution_count": null,
   "id": "f4ef51b6",
   "metadata": {},
   "outputs": [],
   "source": [
    "    Select * from first_table except select * from Second_table;"
   ]
  }
 ],
 "metadata": {
  "kernelspec": {
   "display_name": "Python 3 (ipykernel)",
   "language": "python",
   "name": "python3"
  },
  "language_info": {
   "codemirror_mode": {
    "name": "ipython",
    "version": 3
   },
   "file_extension": ".py",
   "mimetype": "text/x-python",
   "name": "python",
   "nbconvert_exporter": "python",
   "pygments_lexer": "ipython3",
   "version": "3.9.12"
  }
 },
 "nbformat": 4,
 "nbformat_minor": 5
}
