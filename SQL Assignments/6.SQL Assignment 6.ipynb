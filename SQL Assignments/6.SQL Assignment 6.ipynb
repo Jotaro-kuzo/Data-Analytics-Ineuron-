{
 "cells": [
  {
   "cell_type": "markdown",
   "id": "ed16aaca",
   "metadata": {},
   "source": [
    "### Q-1. Write an SQL query to print details of the Workers who have joined in Feb’2014."
   ]
  },
  {
   "cell_type": "markdown",
   "id": "4ae87b83",
   "metadata": {},
   "source": [
    "    Select * from Workers where Join_Date like \"%02-2014%\""
   ]
  },
  {
   "cell_type": "markdown",
   "id": "52d970d0",
   "metadata": {},
   "source": [
    "### Q-2. Write an SQL query to fetch duplicate records having matching data in some fields of a table."
   ]
  },
  {
   "cell_type": "markdown",
   "id": "68876d06",
   "metadata": {},
   "source": [
    "    SELECT column_name, COUNT(column_name) FROM Worker GROUP BY FEILDS HAVING COUNT(column_name) > 1"
   ]
  },
  {
   "cell_type": "markdown",
   "id": "c8dcaad2",
   "metadata": {},
   "source": [
    "### Q-3. How to remove duplicate rows from Employees table."
   ]
  },
  {
   "cell_type": "markdown",
   "id": "491c88d7",
   "metadata": {},
   "source": [
    "    SELECT [FirstName], [LastName], [Department], COUNT(*) AS CNT From [Employees]GROUP BY [FirstName], [LastName],[Department]\n",
    "    HAVING COUNT(*) > 1;"
   ]
  },
  {
   "cell_type": "code",
   "execution_count": null,
   "id": "dcb9f54b",
   "metadata": {},
   "outputs": [],
   "source": []
  }
 ],
 "metadata": {
  "kernelspec": {
   "display_name": "Python 3 (ipykernel)",
   "language": "python",
   "name": "python3"
  },
  "language_info": {
   "codemirror_mode": {
    "name": "ipython",
    "version": 3
   },
   "file_extension": ".py",
   "mimetype": "text/x-python",
   "name": "python",
   "nbconvert_exporter": "python",
   "pygments_lexer": "ipython3",
   "version": "3.9.12"
  }
 },
 "nbformat": 4,
 "nbformat_minor": 5
}
