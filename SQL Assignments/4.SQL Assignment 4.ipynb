{
 "cells": [
  {
   "cell_type": "markdown",
   "id": "72368c7d",
   "metadata": {},
   "source": [
    "### Q-1. Write an SQL query to print the FIRST_NAME from Worker table after replacing ‘a’ with ‘A’."
   ]
  },
  {
   "cell_type": "markdown",
   "id": "3658c9d4",
   "metadata": {},
   "source": [
    "    Select Replace(FIRST_NAME,a,A) from Worker;"
   ]
  },
  {
   "cell_type": "markdown",
   "id": "7a88213a",
   "metadata": {},
   "source": [
    "### Q-2. Write an SQL query to print all Worker details from the Worker table order by FIRST_NAME Ascending and DEPARTMENT Descending."
   ]
  },
  {
   "cell_type": "markdown",
   "id": "3a8f4db0",
   "metadata": {},
   "source": [
    "    Select * from Worker Order by FIRST_NAME ASC ,LAST_NAME DSC ;"
   ]
  },
  {
   "cell_type": "markdown",
   "id": "b0a12668",
   "metadata": {},
   "source": [
    "### Q-3. Write an SQL query to fetch the names of workers who earn the highest salary."
   ]
  },
  {
   "cell_type": "markdown",
   "id": "4d848e93",
   "metadata": {},
   "source": [
    "    Select First_Name,Last_Name,Salary from Worker Where Salary=(Select MAX(Salary) From Worker);"
   ]
  },
  {
   "cell_type": "code",
   "execution_count": null,
   "id": "6e35c9ad",
   "metadata": {},
   "outputs": [],
   "source": []
  }
 ],
 "metadata": {
  "kernelspec": {
   "display_name": "Python 3 (ipykernel)",
   "language": "python",
   "name": "python3"
  },
  "language_info": {
   "codemirror_mode": {
    "name": "ipython",
    "version": 3
   },
   "file_extension": ".py",
   "mimetype": "text/x-python",
   "name": "python",
   "nbconvert_exporter": "python",
   "pygments_lexer": "ipython3",
   "version": "3.9.12"
  }
 },
 "nbformat": 4,
 "nbformat_minor": 5
}
