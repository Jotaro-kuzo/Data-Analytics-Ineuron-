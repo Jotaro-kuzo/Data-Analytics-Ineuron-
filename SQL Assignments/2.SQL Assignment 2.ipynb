{
 "cells": [
  {
   "cell_type": "markdown",
   "id": "e69cc798",
   "metadata": {},
   "source": [
    "### Q-1. Write an SQL query to print the first three characters of  FIRST_NAME from Worker table."
   ]
  },
  {
   "cell_type": "markdown",
   "id": "73fa9059",
   "metadata": {},
   "source": [
    "     Select Substring(FIRST_NAME,1,3) From Worker;"
   ]
  },
  {
   "cell_type": "markdown",
   "id": "4d2973cc",
   "metadata": {},
   "source": [
    "### Q-2. Write an SQL query to find the position of the alphabet (‘a’) in the first name column ‘Amitabh’ from Worker table."
   ]
  },
  {
   "cell_type": "markdown",
   "id": "8bdf2625",
   "metadata": {},
   "source": [
    "    Select locate(\"a\",FIRST_NAME) from Worker where First_NAME = \"Amitabh\":"
   ]
  },
  {
   "cell_type": "markdown",
   "id": "6543758e",
   "metadata": {},
   "source": [
    "### Q-3. Write an SQL query to print the name of employees having the highest salary in each department."
   ]
  },
  {
   "cell_type": "markdown",
   "id": "fd5e448b",
   "metadata": {},
   "source": [
    "    Select First_Name, Last_Name, Department, Salary From Worker where Salary=(Select MAX(Salary)) From worker WHERE Department = Worker.Department"
   ]
  },
  {
   "cell_type": "code",
   "execution_count": null,
   "id": "2b26af41",
   "metadata": {},
   "outputs": [],
   "source": []
  }
 ],
 "metadata": {
  "kernelspec": {
   "display_name": "Python 3 (ipykernel)",
   "language": "python",
   "name": "python3"
  },
  "language_info": {
   "codemirror_mode": {
    "name": "ipython",
    "version": 3
   },
   "file_extension": ".py",
   "mimetype": "text/x-python",
   "name": "python",
   "nbconvert_exporter": "python",
   "pygments_lexer": "ipython3",
   "version": "3.9.12"
  }
 },
 "nbformat": 4,
 "nbformat_minor": 5
}
