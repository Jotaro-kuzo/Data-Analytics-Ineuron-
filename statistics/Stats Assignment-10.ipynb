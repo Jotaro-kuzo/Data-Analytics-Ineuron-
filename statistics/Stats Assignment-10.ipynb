{
 "cells": [
  {
   "cell_type": "markdown",
   "id": "4253002c",
   "metadata": {},
   "source": [
    "### 1. A chicken lays n eggs. Each egg independently does or doesn’t hatch, with probability p of hatching. For each egg that hatches, the chick does or doesn’t survive (independently of theother eggs), with probability s of survival. Let N ⇠ Bin(n, p) be the number of eggs whichhatch, X be the number of chicks which survive, and Y be the number of chicks which hatchbut don’t survive (so X + Y = N). Find the marginal PMF of X, and the joint PMF of X and Y .Are they independent?"
   ]
  },
  {
   "cell_type": "markdown",
   "id": "87e88a24",
   "metadata": {},
   "source": [
    "Marginally we have X ⇠ Bin(n, ps), as shown on a previous homework problem\n",
    "using a story proof (the eggs can be thought of as independent Bernoulli trials\n",
    "with probability ps of success for each). Here X and Y are not independent,\n",
    "unlike in the chicken-egg problem from class (where N was Poisson). This\n",
    "follows immediately from thinking about an extreme case: if X = n, then\n",
    "clearly Y = 0. So they are not independent: P(Y = 0) < 1, while P(Y =0|X = n) = 1."
   ]
  },
  {
   "cell_type": "markdown",
   "id": "c867cb29",
   "metadata": {},
   "source": [
    "To find the joint distribution, condition on N and note that only the N = i+j\n",
    "term is nonzero: for any nonnegative integers i, j with i + j  n,"
   ]
  },
  {
   "cell_type": "markdown",
   "id": "1abe3a38",
   "metadata": {},
   "source": [
    "P(X = i, Y = j) = P(X = i, Y = j|N = i + j)P(N = i + j)"
   ]
  },
  {
   "cell_type": "markdown",
   "id": "7869a12a",
   "metadata": {},
   "source": [
    "= n!/(i!j!(n - i - j)!)(ps)^i(p(1  s))^j (1 - p)^(n-i-j)\n"
   ]
  },
  {
   "cell_type": "markdown",
   "id": "f6da8cc9",
   "metadata": {},
   "source": [
    "If we let Z be the number of eggs which don’t hatch, then from the above\n",
    "we have that (X, Y, Z) has a Multinomial(n,(ps, p(1  s),(1  p)) distribution,\n",
    "which makes sense intuitively since each egg independently falls into 1 of 3\n",
    "categories: hatch-and-survive, hatch-and-don’t-survive, and don’t-hatch, with\n",
    "probabilities ps, p(1  s), 1  p respectively."
   ]
  },
  {
   "cell_type": "code",
   "execution_count": null,
   "id": "90edd041",
   "metadata": {},
   "outputs": [],
   "source": []
  }
 ],
 "metadata": {
  "kernelspec": {
   "display_name": "Python 3 (ipykernel)",
   "language": "python",
   "name": "python3"
  },
  "language_info": {
   "codemirror_mode": {
    "name": "ipython",
    "version": 3
   },
   "file_extension": ".py",
   "mimetype": "text/x-python",
   "name": "python",
   "nbconvert_exporter": "python",
   "pygments_lexer": "ipython3",
   "version": "3.9.12"
  }
 },
 "nbformat": 4,
 "nbformat_minor": 5
}
