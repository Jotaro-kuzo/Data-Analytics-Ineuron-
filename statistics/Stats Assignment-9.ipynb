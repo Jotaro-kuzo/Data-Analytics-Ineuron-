{
 "cells": [
  {
   "cell_type": "markdown",
   "id": "7d11d4fe",
   "metadata": {},
   "source": [
    "### 1.       You are going to play 2 games of chess with an opponent whom you have never played against before (for the sake of this problem). Your opponent is equally likely to be a beginner, intermediate, or a master. Depending on (a) What is your probability of winning the first game? (b) Congratulations: you won the first game! Given this information, what is the probability that you will also win the second game (c) Explain the distinction between assuming that the outcomes of the games are independent and assuming that they are conditionally independent given the opponent’s skill level. Which of these assumptions seems more reasonable, and why?"
   ]
  },
  {
   "cell_type": "markdown",
   "id": "e0168d73",
   "metadata": {},
   "source": [
    "A.\n",
    "\n",
    "Let Wi be the event of winning the ith game. By the law of total probability,\n",
    "P(W1) = (0.9+0.5+0.3)/3 = 17/30.\n"
   ]
  },
  {
   "cell_type": "markdown",
   "id": "ced92a96",
   "metadata": {},
   "source": [
    "B.\n",
    "\n",
    "We have P(W2|W1) = P(W2, W1)/P(W1). The denominator is known from\n",
    "(a), while the numerator can be found by conditioning on the skill level of the opponent:\n",
    "P(W1, W2) =  1/3 P(W1, W2|beginner)+1/3 P(W1, W2|intermediate)+1/3P(W1, W2|expert).\n",
    "\n",
    "Since W1 and W2 are conditionally independent given the skill level of theopponent, this becomes:\n",
    "    \n",
    "    P(W1, W2) = (0.92 + 0.52 + 0.32)/3 = 23/60\n",
    "    \n",
    "    P(W2|W1) = (23/60)/(17/30) = 23/34.\n"
   ]
  },
  {
   "cell_type": "markdown",
   "id": "b64a698a",
   "metadata": {},
   "source": [
    "C.\n",
    "\n",
    "\n",
    "Independence here means that knowing one game’s outcome gives no information about the other game’s outcome, while conditional independence is\n",
    "the same statement where all probabilities are conditional on the opponent’s\n",
    "skill level. Conditional independence given the opponent’s skill level is a morereasonable assumption here. This is because winning the first game gives information about the opponent’s skill level, which in turn gives information about\n",
    "the result of the second game.\n",
    "\n",
    "That is, if the opponent’s skill level is treated as fixed and known, then it may\n",
    "be reasonable to assume independence of games given this information; with\n",
    "the opponent’s skill level random, earlier games can be used to help infer the\n",
    "opponent’s skill level, which a↵ects the probabilities for future games."
   ]
  },
  {
   "cell_type": "code",
   "execution_count": null,
   "id": "51bbc9ad",
   "metadata": {},
   "outputs": [],
   "source": []
  }
 ],
 "metadata": {
  "kernelspec": {
   "display_name": "Python 3 (ipykernel)",
   "language": "python",
   "name": "python3"
  },
  "language_info": {
   "codemirror_mode": {
    "name": "ipython",
    "version": 3
   },
   "file_extension": ".py",
   "mimetype": "text/x-python",
   "name": "python",
   "nbconvert_exporter": "python",
   "pygments_lexer": "ipython3",
   "version": "3.9.12"
  }
 },
 "nbformat": 4,
 "nbformat_minor": 5
}
