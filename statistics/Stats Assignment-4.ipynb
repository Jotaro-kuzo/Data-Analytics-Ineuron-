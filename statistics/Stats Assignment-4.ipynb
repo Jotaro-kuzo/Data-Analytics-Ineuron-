{
 "cells": [
  {
   "cell_type": "markdown",
   "id": "684f37f0",
   "metadata": {},
   "source": [
    "### 1. Is it possible that an event is independent of itself? If so, when?"
   ]
  },
  {
   "cell_type": "markdown",
   "id": "2a4a1dfe",
   "metadata": {},
   "source": [
    " The only events that are independent of themselves are those with probability either 0 or 1. That follows from the fact that a number is its own square if and only if it's either 0 or 1. The only way a random variable X can be independent of itself is if for every measurable set A, either Pr(X∈A)=1 or Pr(X∈A)=0.  "
   ]
  },
  {
   "cell_type": "markdown",
   "id": "e0da4555",
   "metadata": {},
   "source": [
    "### 2  Is it always true that if A and B are independent events, then Ac and Bc are independent events? Show that it is, or give a counterexample."
   ]
  },
  {
   "cell_type": "markdown",
   "id": "33a73bd9",
   "metadata": {},
   "source": [
    "Let A and B be independent events, and let A and C be independent events. How do I show that A and B∪C are independent events as well?\n",
    "\n",
    "According to the definition of independent events, A and B∪C are independent if and only if\n",
    "\n",
    "P(A∩(B∪C))=P(A)P(B∪C).\n",
    "\n",
    "Since A and B and A and C are independent, I know that\n",
    "\n",
    "P(A∩B)=P(A)P(B) and P(A∩C)=P(A)P(C).\n",
    "\n",
    "However, I have no idea how to solve this. I attempted to apply the probability rules I know but got nowhere."
   ]
  },
  {
   "cell_type": "code",
   "execution_count": null,
   "id": "4c058b10",
   "metadata": {},
   "outputs": [],
   "source": []
  }
 ],
 "metadata": {
  "kernelspec": {
   "display_name": "Python 3 (ipykernel)",
   "language": "python",
   "name": "python3"
  },
  "language_info": {
   "codemirror_mode": {
    "name": "ipython",
    "version": 3
   },
   "file_extension": ".py",
   "mimetype": "text/x-python",
   "name": "python",
   "nbconvert_exporter": "python",
   "pygments_lexer": "ipython3",
   "version": "3.9.12"
  }
 },
 "nbformat": 4,
 "nbformat_minor": 5
}
